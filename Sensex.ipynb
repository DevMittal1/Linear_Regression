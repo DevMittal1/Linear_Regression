{
 "cells": [
  {
   "cell_type": "code",
   "execution_count": 1,
   "id": "a20f55e1",
   "metadata": {},
   "outputs": [],
   "source": [
    "import yfinance as yf\n",
    "import pandas as pd\n",
    "import seaborn as sns\n",
    "from sklearn.linear_model import Lasso\n",
    "import matplotlib.pyplot as plt\n",
    "from sklearn.model_selection import train_test_split\n",
    "from sklearn.model_selection import GridSearchCV\n",
    "from sklearn.model_selection import cross_val_score\n",
    "from sklearn.preprocessing import StandardScaler\n",
    "from sklearn.linear_model import LinearRegression\n",
    "from sklearn.preprocessing import MinMaxScaler\n",
    "from statsmodels.stats.outliers_influence import variance_inflation_factor as vif\n",
    "from sklearn.metrics import r2_score\n",
    "import warnings\n",
    "warnings.filterwarnings('ignore')"
   ]
  },
  {
   "cell_type": "markdown",
   "id": "36cec59b",
   "metadata": {},
   "source": [
    "# Preparing the Data "
   ]
  },
  {
   "cell_type": "code",
   "execution_count": 2,
   "id": "ae186d9a",
   "metadata": {},
   "outputs": [
    {
     "ename": "FileNotFoundError",
     "evalue": "[Errno 2] No such file or directory: 'MCAP31122022_3.xlsx'",
     "output_type": "error",
     "traceback": [
      "\u001b[1;31m---------------------------------------------------------------------------\u001b[0m",
      "\u001b[1;31mFileNotFoundError\u001b[0m                         Traceback (most recent call last)",
      "Cell \u001b[1;32mIn [2], line 1\u001b[0m\n\u001b[1;32m----> 1\u001b[0m df_1 \u001b[38;5;241m=\u001b[39m \u001b[43mpd\u001b[49m\u001b[38;5;241;43m.\u001b[39;49m\u001b[43mread_excel\u001b[49m\u001b[43m(\u001b[49m\u001b[38;5;124;43m'\u001b[39;49m\u001b[38;5;124;43mMCAP31122022_3.xlsx\u001b[39;49m\u001b[38;5;124;43m'\u001b[39;49m\u001b[43m)\u001b[49m\n\u001b[0;32m      2\u001b[0m symbols \u001b[38;5;241m=\u001b[39m df_1\u001b[38;5;241m.\u001b[39mSymbol[:\u001b[38;5;241m100\u001b[39m]                   \u001b[38;5;66;03m#Symbol of top 100 companies\u001b[39;00m\n\u001b[0;32m      3\u001b[0m symbol_list \u001b[38;5;241m=\u001b[39m []\n",
      "File \u001b[1;32mC:\\python39\\lib\\site-packages\\pandas\\util\\_decorators.py:311\u001b[0m, in \u001b[0;36mdeprecate_nonkeyword_arguments.<locals>.decorate.<locals>.wrapper\u001b[1;34m(*args, **kwargs)\u001b[0m\n\u001b[0;32m    305\u001b[0m \u001b[38;5;28;01mif\u001b[39;00m \u001b[38;5;28mlen\u001b[39m(args) \u001b[38;5;241m>\u001b[39m num_allow_args:\n\u001b[0;32m    306\u001b[0m     warnings\u001b[38;5;241m.\u001b[39mwarn(\n\u001b[0;32m    307\u001b[0m         msg\u001b[38;5;241m.\u001b[39mformat(arguments\u001b[38;5;241m=\u001b[39marguments),\n\u001b[0;32m    308\u001b[0m         \u001b[38;5;167;01mFutureWarning\u001b[39;00m,\n\u001b[0;32m    309\u001b[0m         stacklevel\u001b[38;5;241m=\u001b[39mstacklevel,\n\u001b[0;32m    310\u001b[0m     )\n\u001b[1;32m--> 311\u001b[0m \u001b[38;5;28;01mreturn\u001b[39;00m func(\u001b[38;5;241m*\u001b[39margs, \u001b[38;5;241m*\u001b[39m\u001b[38;5;241m*\u001b[39mkwargs)\n",
      "File \u001b[1;32mC:\\python39\\lib\\site-packages\\pandas\\io\\excel\\_base.py:457\u001b[0m, in \u001b[0;36mread_excel\u001b[1;34m(io, sheet_name, header, names, index_col, usecols, squeeze, dtype, engine, converters, true_values, false_values, skiprows, nrows, na_values, keep_default_na, na_filter, verbose, parse_dates, date_parser, thousands, decimal, comment, skipfooter, convert_float, mangle_dupe_cols, storage_options)\u001b[0m\n\u001b[0;32m    455\u001b[0m \u001b[38;5;28;01mif\u001b[39;00m \u001b[38;5;129;01mnot\u001b[39;00m \u001b[38;5;28misinstance\u001b[39m(io, ExcelFile):\n\u001b[0;32m    456\u001b[0m     should_close \u001b[38;5;241m=\u001b[39m \u001b[38;5;28;01mTrue\u001b[39;00m\n\u001b[1;32m--> 457\u001b[0m     io \u001b[38;5;241m=\u001b[39m \u001b[43mExcelFile\u001b[49m\u001b[43m(\u001b[49m\u001b[43mio\u001b[49m\u001b[43m,\u001b[49m\u001b[43m \u001b[49m\u001b[43mstorage_options\u001b[49m\u001b[38;5;241;43m=\u001b[39;49m\u001b[43mstorage_options\u001b[49m\u001b[43m,\u001b[49m\u001b[43m \u001b[49m\u001b[43mengine\u001b[49m\u001b[38;5;241;43m=\u001b[39;49m\u001b[43mengine\u001b[49m\u001b[43m)\u001b[49m\n\u001b[0;32m    458\u001b[0m \u001b[38;5;28;01melif\u001b[39;00m engine \u001b[38;5;129;01mand\u001b[39;00m engine \u001b[38;5;241m!=\u001b[39m io\u001b[38;5;241m.\u001b[39mengine:\n\u001b[0;32m    459\u001b[0m     \u001b[38;5;28;01mraise\u001b[39;00m \u001b[38;5;167;01mValueError\u001b[39;00m(\n\u001b[0;32m    460\u001b[0m         \u001b[38;5;124m\"\u001b[39m\u001b[38;5;124mEngine should not be specified when passing \u001b[39m\u001b[38;5;124m\"\u001b[39m\n\u001b[0;32m    461\u001b[0m         \u001b[38;5;124m\"\u001b[39m\u001b[38;5;124man ExcelFile - ExcelFile already has the engine set\u001b[39m\u001b[38;5;124m\"\u001b[39m\n\u001b[0;32m    462\u001b[0m     )\n",
      "File \u001b[1;32mC:\\python39\\lib\\site-packages\\pandas\\io\\excel\\_base.py:1376\u001b[0m, in \u001b[0;36mExcelFile.__init__\u001b[1;34m(self, path_or_buffer, engine, storage_options)\u001b[0m\n\u001b[0;32m   1374\u001b[0m     ext \u001b[38;5;241m=\u001b[39m \u001b[38;5;124m\"\u001b[39m\u001b[38;5;124mxls\u001b[39m\u001b[38;5;124m\"\u001b[39m\n\u001b[0;32m   1375\u001b[0m \u001b[38;5;28;01melse\u001b[39;00m:\n\u001b[1;32m-> 1376\u001b[0m     ext \u001b[38;5;241m=\u001b[39m \u001b[43minspect_excel_format\u001b[49m\u001b[43m(\u001b[49m\n\u001b[0;32m   1377\u001b[0m \u001b[43m        \u001b[49m\u001b[43mcontent_or_path\u001b[49m\u001b[38;5;241;43m=\u001b[39;49m\u001b[43mpath_or_buffer\u001b[49m\u001b[43m,\u001b[49m\u001b[43m \u001b[49m\u001b[43mstorage_options\u001b[49m\u001b[38;5;241;43m=\u001b[39;49m\u001b[43mstorage_options\u001b[49m\n\u001b[0;32m   1378\u001b[0m \u001b[43m    \u001b[49m\u001b[43m)\u001b[49m\n\u001b[0;32m   1379\u001b[0m     \u001b[38;5;28;01mif\u001b[39;00m ext \u001b[38;5;129;01mis\u001b[39;00m \u001b[38;5;28;01mNone\u001b[39;00m:\n\u001b[0;32m   1380\u001b[0m         \u001b[38;5;28;01mraise\u001b[39;00m \u001b[38;5;167;01mValueError\u001b[39;00m(\n\u001b[0;32m   1381\u001b[0m             \u001b[38;5;124m\"\u001b[39m\u001b[38;5;124mExcel file format cannot be determined, you must specify \u001b[39m\u001b[38;5;124m\"\u001b[39m\n\u001b[0;32m   1382\u001b[0m             \u001b[38;5;124m\"\u001b[39m\u001b[38;5;124man engine manually.\u001b[39m\u001b[38;5;124m\"\u001b[39m\n\u001b[0;32m   1383\u001b[0m         )\n",
      "File \u001b[1;32mC:\\python39\\lib\\site-packages\\pandas\\io\\excel\\_base.py:1250\u001b[0m, in \u001b[0;36minspect_excel_format\u001b[1;34m(content_or_path, storage_options)\u001b[0m\n\u001b[0;32m   1247\u001b[0m \u001b[38;5;28;01mif\u001b[39;00m \u001b[38;5;28misinstance\u001b[39m(content_or_path, \u001b[38;5;28mbytes\u001b[39m):\n\u001b[0;32m   1248\u001b[0m     content_or_path \u001b[38;5;241m=\u001b[39m BytesIO(content_or_path)\n\u001b[1;32m-> 1250\u001b[0m \u001b[38;5;28;01mwith\u001b[39;00m \u001b[43mget_handle\u001b[49m\u001b[43m(\u001b[49m\n\u001b[0;32m   1251\u001b[0m \u001b[43m    \u001b[49m\u001b[43mcontent_or_path\u001b[49m\u001b[43m,\u001b[49m\u001b[43m \u001b[49m\u001b[38;5;124;43m\"\u001b[39;49m\u001b[38;5;124;43mrb\u001b[39;49m\u001b[38;5;124;43m\"\u001b[39;49m\u001b[43m,\u001b[49m\u001b[43m \u001b[49m\u001b[43mstorage_options\u001b[49m\u001b[38;5;241;43m=\u001b[39;49m\u001b[43mstorage_options\u001b[49m\u001b[43m,\u001b[49m\u001b[43m \u001b[49m\u001b[43mis_text\u001b[49m\u001b[38;5;241;43m=\u001b[39;49m\u001b[38;5;28;43;01mFalse\u001b[39;49;00m\n\u001b[0;32m   1252\u001b[0m \u001b[43m\u001b[49m\u001b[43m)\u001b[49m \u001b[38;5;28;01mas\u001b[39;00m handle:\n\u001b[0;32m   1253\u001b[0m     stream \u001b[38;5;241m=\u001b[39m handle\u001b[38;5;241m.\u001b[39mhandle\n\u001b[0;32m   1254\u001b[0m     stream\u001b[38;5;241m.\u001b[39mseek(\u001b[38;5;241m0\u001b[39m)\n",
      "File \u001b[1;32mC:\\python39\\lib\\site-packages\\pandas\\io\\common.py:795\u001b[0m, in \u001b[0;36mget_handle\u001b[1;34m(path_or_buf, mode, encoding, compression, memory_map, is_text, errors, storage_options)\u001b[0m\n\u001b[0;32m    786\u001b[0m         handle \u001b[38;5;241m=\u001b[39m \u001b[38;5;28mopen\u001b[39m(\n\u001b[0;32m    787\u001b[0m             handle,\n\u001b[0;32m    788\u001b[0m             ioargs\u001b[38;5;241m.\u001b[39mmode,\n\u001b[1;32m   (...)\u001b[0m\n\u001b[0;32m    791\u001b[0m             newline\u001b[38;5;241m=\u001b[39m\u001b[38;5;124m\"\u001b[39m\u001b[38;5;124m\"\u001b[39m,\n\u001b[0;32m    792\u001b[0m         )\n\u001b[0;32m    793\u001b[0m     \u001b[38;5;28;01melse\u001b[39;00m:\n\u001b[0;32m    794\u001b[0m         \u001b[38;5;66;03m# Binary mode\u001b[39;00m\n\u001b[1;32m--> 795\u001b[0m         handle \u001b[38;5;241m=\u001b[39m \u001b[38;5;28;43mopen\u001b[39;49m\u001b[43m(\u001b[49m\u001b[43mhandle\u001b[49m\u001b[43m,\u001b[49m\u001b[43m \u001b[49m\u001b[43mioargs\u001b[49m\u001b[38;5;241;43m.\u001b[39;49m\u001b[43mmode\u001b[49m\u001b[43m)\u001b[49m\n\u001b[0;32m    796\u001b[0m     handles\u001b[38;5;241m.\u001b[39mappend(handle)\n\u001b[0;32m    798\u001b[0m \u001b[38;5;66;03m# Convert BytesIO or file objects passed with an encoding\u001b[39;00m\n",
      "\u001b[1;31mFileNotFoundError\u001b[0m: [Errno 2] No such file or directory: 'MCAP31122022_3.xlsx'"
     ]
    }
   ],
   "source": [
    "df_1 = pd.read_excel('MCAP31122022_3.xlsx')\n",
    "symbols = df_1.Symbol[:100]                   #Symbol of top 100 companies\n",
    "symbol_list = []\n",
    "for i in symbols:\n",
    "    symbol_list.append(f\"{i}.NS\")"
   ]
  },
  {
   "cell_type": "code",
   "execution_count": null,
   "id": "80cbb24b",
   "metadata": {},
   "outputs": [],
   "source": [
    "# Historical data of stock prices\n",
    "price_df = yf.download(symbol_list,'2016-4-1','2023-3-1', auto_adjust=True)['Close']"
   ]
  },
  {
   "cell_type": "code",
   "execution_count": null,
   "id": "cc568d84",
   "metadata": {},
   "outputs": [],
   "source": [
    "#sensex data\n",
    "sensex = yf.download('^BSESN','2016-4-1','2023-3-1', auto_adjust=True)"
   ]
  },
  {
   "cell_type": "code",
   "execution_count": null,
   "id": "b1b04d23",
   "metadata": {},
   "outputs": [],
   "source": [
    "# Merged Dataframe\n",
    "final_df = pd.merge(price_df,sensex.Close.round(0),on='Date',how='left')\n",
    "final_df = final_df[final_df['Close'].isnull()==False]\n",
    "final_df = final_df.rename(columns = {'Close':'Sensex'})"
   ]
  },
  {
   "cell_type": "code",
   "execution_count": null,
   "id": "ceb6672c",
   "metadata": {},
   "outputs": [],
   "source": [
    "# Checking null values\n",
    "j=0\n",
    "column_list=[]\n",
    "for i in final_df.isnull().sum():\n",
    "    if i!=0:\n",
    "        print('column index',j,'number of null values',i)\n",
    "        if i>200:\n",
    "            column_list.append(j)\n",
    "    j=j+1"
   ]
  },
  {
   "cell_type": "code",
   "execution_count": null,
   "id": "06c97544",
   "metadata": {},
   "outputs": [],
   "source": [
    "#dropping columns having too many null values\n",
    "final_df = final_df.drop(final_df.columns[column_list],axis=1)\n",
    "final_df = final_df.fillna(final_df.mean())\n",
    "final_df = final_df.round(0)\n",
    "final_df"
   ]
  },
  {
   "cell_type": "code",
   "execution_count": null,
   "id": "a8c1fb29",
   "metadata": {},
   "outputs": [],
   "source": [
    "final_df.describe()      "
   ]
  },
  {
   "cell_type": "code",
   "execution_count": null,
   "id": "ce1c9147",
   "metadata": {},
   "outputs": [],
   "source": [
    "#checking companies growth fluctuation\n",
    "companies = final_df.columns\n",
    "\n",
    "growth = ((final_df.max()-final_df.min())/final_df.max() )*100\n",
    "growth_list =[]\n",
    "for i in growth:\n",
    "    growth_list.append(i)\n",
    "    \n",
    "df = pd.DataFrame()\n",
    "df['Companies']  = companies\n",
    "df['growth'] = growth_list\n",
    "df"
   ]
  },
  {
   "cell_type": "code",
   "execution_count": null,
   "id": "dde34964",
   "metadata": {},
   "outputs": [],
   "source": [
    "plt.figure(figsize = (12,4))\n",
    "sns.lineplot(data= df.loc[0:100:2].nlargest(50,'growth'), y='growth',x='Companies')\n",
    "plt.xticks(rotation=85)\n",
    "plt.show()\n",
    "# We can see adanitrans have highest fluctuation while bpcl has lowest"
   ]
  },
  {
   "cell_type": "markdown",
   "id": "02fa5496",
   "metadata": {},
   "source": [
    "# Assumptions of Linear Regression"
   ]
  },
  {
   "cell_type": "markdown",
   "id": "ac1e6ad6",
   "metadata": {},
   "source": [
    "Linearity of Data"
   ]
  },
  {
   "cell_type": "code",
   "execution_count": null,
   "id": "99ba3e59",
   "metadata": {},
   "outputs": [],
   "source": [
    "plt.figure(figsize=(35,52))\n",
    "for i in enumerate(final_df.columns[0:-1]):\n",
    "    plt.subplot(14,7,i[0]+1)\n",
    "    sns.scatterplot(x=i[1] ,y='Sensex',data=final_df)"
   ]
  },
  {
   "cell_type": "markdown",
   "id": "ec489fff",
   "metadata": {},
   "source": [
    "Scaling our data"
   ]
  },
  {
   "cell_type": "code",
   "execution_count": null,
   "id": "a5644162",
   "metadata": {},
   "outputs": [],
   "source": [
    "scalar = StandardScaler()\n",
    "X = final_df.iloc[:,0:-1]\n",
    "y = final_df.iloc[:,-1]\n",
    "X_train, X_test,y_train,y_test = train_test_split(final_df.iloc[:,0:-1],final_df.iloc[:,-1],test_size=0.3,random_state = 23)\n",
    "X_train = scalar.fit_transform(X_train)\n",
    "X_test = scalar.transform(X_test)"
   ]
  },
  {
   "cell_type": "markdown",
   "id": "a0fd5e4b",
   "metadata": {},
   "source": [
    " For check of multicollinearity"
   ]
  },
  {
   "cell_type": "code",
   "execution_count": null,
   "id": "ce636f40",
   "metadata": {},
   "outputs": [],
   "source": [
    "VIF = []\n",
    "for i in range(X_train.shape[1]):\n",
    "    VIF.append(vif(X_train,i))\n",
    "pd.DataFrame({'VIF':VIF},index = final_df.iloc[:,0:-1].columns).T"
   ]
  },
  {
   "cell_type": "markdown",
   "id": "33cee5e1",
   "metadata": {},
   "source": [
    "Values turned out to be highly collinear"
   ]
  },
  {
   "cell_type": "markdown",
   "id": "b1b58264",
   "metadata": {},
   "source": [
    "For diminshing the effect of multicolinearity we use lasso regression"
   ]
  },
  {
   "cell_type": "code",
   "execution_count": null,
   "id": "ba4f623d",
   "metadata": {},
   "outputs": [],
   "source": [
    "reg_model = Lasso()\n",
    "parameters ={'alpha':[1,2,5,10,100,150,500,1000],'random_state':[23]}\n",
    "lasso_regressor = GridSearchCV(reg_model,parameters,scoring='neg_mean_squared_error',cv=10)\n",
    "lasso_regressor.fit(X_train,y_train)"
   ]
  },
  {
   "cell_type": "code",
   "execution_count": null,
   "id": "51569347",
   "metadata": {},
   "outputs": [],
   "source": [
    "# Obtaning best values of alpha \n",
    "print(lasso_regressor.best_params_)\n",
    "y_pred = lasso_regressor.predict(X_test)"
   ]
  },
  {
   "cell_type": "code",
   "execution_count": null,
   "id": "55949b82",
   "metadata": {},
   "outputs": [],
   "source": [
    "#Checking normality of residuals\n",
    "residual= y_pred - y_test\n",
    "sns.displot(residual,kind='kde')\n",
    "# Most of residuals are near zero values which is good"
   ]
  },
  {
   "cell_type": "code",
   "execution_count": null,
   "id": "5f99de6e",
   "metadata": {},
   "outputs": [],
   "source": [
    "#Uniformity of residual points\n",
    "sns.scatterplot(x=y_pred,y=residual)"
   ]
  },
  {
   "cell_type": "code",
   "execution_count": null,
   "id": "9b3e52b2",
   "metadata": {},
   "outputs": [],
   "source": [
    "# relationship between residual points\n",
    "plt.plot(residual)\n",
    "#no relation "
   ]
  },
  {
   "cell_type": "code",
   "execution_count": null,
   "id": "b97d4369",
   "metadata": {},
   "outputs": [],
   "source": [
    "# Checking score of our model\n",
    "r2_score( y_pred , y_test)"
   ]
  },
  {
   "cell_type": "code",
   "execution_count": null,
   "id": "25bf71f3",
   "metadata": {},
   "outputs": [],
   "source": []
  }
 ],
 "metadata": {
  "kernelspec": {
   "display_name": "Python 3 (ipykernel)",
   "language": "python",
   "name": "python3"
  },
  "language_info": {
   "codemirror_mode": {
    "name": "ipython",
    "version": 3
   },
   "file_extension": ".py",
   "mimetype": "text/x-python",
   "name": "python",
   "nbconvert_exporter": "python",
   "pygments_lexer": "ipython3",
   "version": "3.9.6"
  }
 },
 "nbformat": 4,
 "nbformat_minor": 5
}
